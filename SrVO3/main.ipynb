{
 "cells": [
  {
   "cell_type": "markdown",
   "id": "7a59fd97",
   "metadata": {},
   "source": [
    "<center><b>Effective Hamiltonians using PySCF</b></center>\n",
    "<center> daan.verraes@ugent.be </center>"
   ]
  },
  {
   "cell_type": "markdown",
   "id": "fcf2f461",
   "metadata": {},
   "source": [
    "<div class=\"alert alert-block alert-info\">\n",
    "<b>Code benchmarking:</b> SrVO3\n",
    "</div>"
   ]
  },
  {
   "cell_type": "markdown",
   "id": "070e6644",
   "metadata": {},
   "source": [
    "## Prelude"
   ]
  },
  {
   "cell_type": "markdown",
   "id": "93209439",
   "metadata": {},
   "source": [
    "**PyWannier90:** (6.4.0 GCCore 10.3.0 IPython 7.25.0) \\\n",
    "module load pyWannier90/2021-12-07-foss-2021a \\\n",
    "module load matplotlib/3.4.2-foss-2021a\n",
    "\n",
    "**ASE:** (6.4.0 GCCore 11.3.0 IPython 8.5.0) \\\n",
    "module load PySCF/2.1.1-foss-2022a \\\n",
    "module load ASE/3.22.1-foss-2022a"
   ]
  },
  {
   "cell_type": "code",
   "execution_count": 2,
   "id": "e69685d9",
   "metadata": {},
   "outputs": [],
   "source": [
    "import numpy as np\n",
    "from pyscf.pbc import gto, scf, cc, df, dft\n",
    "from pyscf.lib import chkfile\n",
    "\n",
    "import matplotlib.pyplot as plt\n",
    "%matplotlib inline\n",
    "\n",
    "ASE = True\n",
    "\n",
    "if ASE:\n",
    "    import pyscf.pbc.tools.pyscf_ase as pyscf_ase\n",
    "    from ase.lattice import bulk\n",
    "    from ase.dft.kpoints import sc_special_points as special_points, get_bandpath\n",
    "else:\n",
    "    import pywannier90"
   ]
  },
  {
   "cell_type": "markdown",
   "id": "f5f562ef",
   "metadata": {},
   "source": [
    "## Define unit cell "
   ]
  },
  {
   "cell_type": "code",
   "execution_count": 3,
   "id": "107961a9",
   "metadata": {},
   "outputs": [],
   "source": [
    "# Lattice constant in [Å]:\n",
    "a = 3.84652\n",
    "\n",
    "cell = gto.Cell()\n",
    "cell.atom = [['Sr',[0.0,0.0,0.0]],\n",
    "             ['V',[a/2,a/2,a/2]],\n",
    "             ['O',[a/2,a/2,0.0]],\n",
    "             ['O',[a/2,0.0,a/2]],\n",
    "             ['O',[0.0,a/2,a/2]]]\n",
    "cell.a = np.eye(3) * a\n",
    "cell.basis = {\n",
    "    'Sr': gto.basis.parse(\"\"\"\n",
    "    Sr TZVP-MOLOPT-PBE-GTH-q10 TZVP-MOLOPT-GGA-GTH-q10\n",
    "     1\n",
    "     2 0 2 6 4 2 1\n",
    "        14.48916111145965     2.25884524062801E-02    -1.34868194665989E-02     5.54347466759003E-03    -6.34061204601782E-02     2.06499646232493E-02     1.17383676982674E-02     1.14360210122985E-03\n",
    "         2.15623936661967    -4.64342518925513E-01     3.59475029457052E-01    -4.70143743354400E-02     7.78871715629289E-01    -2.14974750089492E-01    -1.27979865553719E-01    -1.80202260985966E-02\n",
    "         1.03613539116593     3.33230880551197E-01    -3.29393450960058E-01    -5.67977461098407E-02     1.17525562186450E-01     4.84134139687010E-01     3.20554567557613E-01     2.74056011019933E-01\n",
    "         0.40204859937069     2.34326701416452E-01    -6.09501320740582E-01    -3.85922227366423E-01     5.04476105122795E-01     5.67539566699685E-01     4.94705577196014E-01     6.36550936632788E-01\n",
    "         0.14809754979486     4.55723332187727E-01     4.50988125913452E-02     8.08224071603016E-01     3.38488174369872E-01     3.43157768722482E-01    -1.43576838157202E-01     6.56932449549031E-01\n",
    "         0.04236584632575     6.40499967748533E-01     6.23353832490415E-01    -4.38600979293572E-01     8.03484404672735E-02     5.28313502165408E-01    -7.84461737365516E-01     2.96327400438876E-01\n",
    "      #\n",
    "    \"\"\"),\n",
    "    \n",
    "    'V': gto.basis.parse(\"\"\"\n",
    "    V TZVP-MOLOPT-PBE-GTH-q13 TZVP-MOLOPT-GGA-GTH-q13\n",
    "     1\n",
    "     2 0 3 6 4 3 3 1\n",
    "         7.33442219698472     8.27825761961714E-02     7.55011658547867E-02     2.24511235524045E-02     1.22895771891037E-01    -1.83579503640807E-01     3.57180401864135E-02     4.48474756328750E-02     1.40590997734590E-01    -1.07169041006575E-02     8.92275620154863E-02     6.55903605941630E-03\n",
    "         3.71180865126492     3.47305780415066E-01     2.27060968905872E-01    -4.69617631181605E-02     1.08151153599133E-01     2.27317946465339E-01    -5.54382379165022E-02    -5.07409971207343E-02     3.54293109697276E-01    -1.45996628563614E-02     2.38719792100295E-01    -2.44760939719959E-02\n",
    "         1.52733194631141    -5.48399617008117E-01    -3.65860899789597E-01     3.63857440971976E-01    -5.11789811341402E-01     6.92745649304493E-01    -3.32978321369422E-01     3.08502840955541E-01     5.71040303624255E-01    -3.02941302182320E-02     5.08321915100566E-01    -9.15243347888105E-02\n",
    "         0.59629749846074    -1.01757099618302E-01    -4.72373457722919E-01     3.94696315466647E-01     7.74796088175320E-01     5.39593940777681E-01    -1.80643198550142E-01    -3.16142108387358E-01     6.66097442307729E-01    -1.24844025389668E-01    -2.62758620793206E-01    -6.80441969106978E-01\n",
    "         0.21465533405075    -5.39057602096820E-01    -1.11723359065070E-01    -7.79365563349408E-01     2.43487845403239E-01     2.96134776157562E-01     6.48082113478254E-01    -6.04927743685262E-01     2.70864233148312E-01     6.81537901024263E-01    -5.75079047942911E-01    -7.26070149834146E-01\n",
    "         0.06343681403080    -5.20428664019244E-01     7.57145890722093E-01     3.18908199530063E-01     2.27323199701933E-01     2.36370801609666E-01     6.57368899391423E-01     6.59057390890328E-01    -1.07565328827752E-01     7.20190476386105E-01     5.26214908075383E-01    -2.83206675230326E-02\n",
    "         #\n",
    "    \"\"\"),\n",
    "    \n",
    "    'O': gto.basis.parse(\"\"\"\n",
    "    O TZVP-MOLOPT-PBE-GTH-q6 TZVP-MOLOPT-GGA-GTH-q6\n",
    "     1\n",
    "     2 0 2 5 3 3 1\n",
    "        10.27704242406505    -1.49868256024880E-01     4.87596886258794E-02    -5.53669874919871E-01    -9.24779725877624E-02     6.96521980106397E-02     1.20727677711086E-01    -6.77536972887194E-02\n",
    "         3.56405253880618    -1.50283608564945E-01     3.88821197655349E-02    -1.92378825213863E-01    -2.90527105694297E-01     2.15775427853434E-01     4.18617946994965E-01     1.82303508690924E-01\n",
    "         1.31363563226775     5.39068797289606E-01    -1.25699044360202E-01     5.91746387586808E-01    -5.18398147191831E-01     3.67414070470753E-01     5.18264995222031E-01     3.34682703085916E-01\n",
    "         0.48890324671371     8.02346121882746E-01    -7.57512538516891E-02    -5.49213059041492E-01    -6.26250099252499E-01     2.67796450584559E-01    -7.27741038771548E-01     9.10370319696758E-01\n",
    "         0.15533153369410     1.43526566604286E-01     9.87204219659982E-01     6.81269826999462E-02    -4.96100795824058E-01    -8.61325430903662E-01     1.09445043302219E-01    -1.46247176017229E-01\n",
    "      #\n",
    "    \"\"\")}\n",
    "\n",
    "cell.pseudo = {\n",
    "    'Sr': gto.pseudo.parse(\"\"\"\n",
    "    Sr GTH-PBE-q10 GTH-PBE\n",
    "    4    6\n",
    "     0.48000000    2     6.81095035    -1.19610979\n",
    "    3\n",
    "     0.27588581    2    21.28971943    -7.89903416\n",
    "                                       10.19760926\n",
    "     0.28174086    2    11.70905135   -10.96577673\n",
    "                                       12.97488200\n",
    "     0.52108911    1     0.36053906\n",
    "     #\n",
    "    \"\"\"),\n",
    "    'V': gto.pseudo.parse(\"\"\"\n",
    "    V GTH-PBE-q13 GTH-PBE\n",
    "    4    6    3\n",
    "     0.37500000    2     7.47470354    -0.37026363\n",
    "    3\n",
    "     0.32779544    2     1.94087762     4.72568824\n",
    "                                       -6.10083728\n",
    "     0.24476590    2    -5.97816705     9.35863915\n",
    "                                      -11.07329118\n",
    "     0.24173879    1    -9.49989110\n",
    "     #\n",
    "    \"\"\"),\n",
    "    'O': gto.pseudo.parse(\"\"\"\n",
    "    O GTH-PBE-q6 GTH-PBE\n",
    "    2    4\n",
    "     0.24455430    2   -16.66721480     2.48731132\n",
    "    2\n",
    "     0.22095592    1    18.33745811\n",
    "     0.21133247    0\n",
    "     #\n",
    "    \"\"\")}\n",
    "\n",
    "cell.exp_to_discard = 0.1\n",
    "cell.spin = 1\n",
    "cell.build();"
   ]
  },
  {
   "cell_type": "markdown",
   "id": "f677fc2a",
   "metadata": {},
   "source": [
    "## PBE calculation"
   ]
  },
  {
   "cell_type": "code",
   "execution_count": 4,
   "id": "941e3a15",
   "metadata": {
    "scrolled": true
   },
   "outputs": [],
   "source": [
    "kmesh = [5,5,5]\n",
    "kpts = cell.make_kpts(kmesh)\n",
    "nkpts = kpts.shape[0]\n",
    "\n",
    "run_scf = False\n",
    "\n",
    "if run_scf:\n",
    "    PBE = scf.KKS(cell, kpts)\n",
    "    PBE = scf.addons.smearing_(PBE, sigma=.1, method='fermi')\n",
    "    PBE.xc = 'PBE'\n",
    "    PBE.verbose = 4\n",
    "    PBE.init_guess_breaksym=False\n",
    "    PBE.init_guess = \"1e\"\n",
    "    PBE.chkfile = 'SrVO3_PBE.chk'\n",
    "    PBE.run();"
   ]
  },
  {
   "cell_type": "markdown",
   "id": "b58f187b",
   "metadata": {},
   "source": [
    "## Band structure"
   ]
  },
  {
   "cell_type": "code",
   "execution_count": 5,
   "id": "fe1baad5",
   "metadata": {},
   "outputs": [],
   "source": [
    "## Calculate PBE bands non-selfconsistently\n",
    "run_bands = False\n",
    "\n",
    "# Define high-symmetry k-paths:\n",
    "hspoints = {\n",
    "  \"G\": [0.0, 0.0, 0.0],\n",
    "  \"X\": [0.0, 0.5, 0.0],\n",
    "  \"M\": [0.5, 0.5, 0.0],\n",
    "  \"R\": [0.5, 0.5, 0.5]}\n",
    "\n",
    "G = hspoints['G']\n",
    "X = hspoints['X']\n",
    "M = hspoints['M']\n",
    "R = hspoints['R']\n",
    "kpath = [G, X, M, G, R, X]\n",
    "\n",
    "# nscf along high-symmetry path:\n",
    "if run_bands:\n",
    "    \n",
    "    band_kpts, kpath, sp_points = get_bandpath(kpath, cell.a, npoints=50);\n",
    "    band_kpts = cell.get_abs_kpts(band_kpts);\n",
    "    \n",
    "    nscf = scf.KKS(cell, kpts)\n",
    "    nscf.__dict__.update(chkfile.load(\"SrVO3_PBE.chk\", 'scf'))\n",
    "    E_nk = nscf.get_bands(np.array(band_kpts))\n",
    "    E_F = nscf.get_fermi()\n",
    "    \n",
    "# Plot band structure (in eV):\n",
    "plot_bands = False\n",
    "\n",
    "if plot_bands:\n",
    "    au2ev = 27.211386245988\n",
    "    e_nk = (E_nk[0][0]- E_F[0])*au2ev\n",
    "\n",
    "    plt.figure()\n",
    "    nbands = cell.nao_nr()\n",
    "    for n in range(nbands):\n",
    "        plt.plot(kpath, [e[n] for e in e_nk], color='#4169E1')\n",
    "    plt.plot([0, sp_points[-1]], [0, 0], '--', color='g')\n",
    "    plt.xticks(sp_points, ['$%s$' % n for n in [r'\\Gamma', 'X', 'M', r'\\Gamma', 'R', 'X']])\n",
    "    plt.xlabel('k-vector')\n",
    "    plt.ylabel(r'$E-E_{F}$ [eV]')\n",
    "    plt.ylim([-6,6])\n",
    "    plt.grid()\n",
    "    plt.savefig('Bands')\n",
    "    plt.title('Band structure SrVO3')\n",
    "    plt.show()"
   ]
  },
  {
   "cell_type": "markdown",
   "id": "021977a6",
   "metadata": {},
   "source": [
    "## Construct MLWFs"
   ]
  },
  {
   "cell_type": "code",
   "execution_count": 6,
   "id": "0d1e0994",
   "metadata": {},
   "outputs": [],
   "source": [
    "Run_90 = False # use *_MLWF.py script\n",
    "\n",
    "if Run_90:    \n",
    "    PBE = scf.KKS(cell, kpts)\n",
    "    PBE.__dict__.update(chkfile.load(\"SrVO3_PBE.chk\", 'scf'))\n",
    "\n",
    "    pywannier90.save_kmf(PBE, 'chk_W90')\n",
    "    kmf = pywannier90.load_kmf('chk_W90')\n",
    "\n",
    "    # Construct MLWFs:\n",
    "    num_wann = 3\n",
    "    keywords = \\\n",
    "    \"\"\"\n",
    "    # PBE energy window\n",
    "    exclude_bands : 1-20,24-101\n",
    "\n",
    "    begin projections\n",
    "     V:dxy;dxz;dyz\n",
    "    end projections\n",
    "\n",
    "    write_u_matrices = .TRUE.\n",
    "    \"\"\"\n",
    "    w90 = pywannier90.W90(kmf, cell, kmesh, num_wann, other_keywords=keywords)\n",
    "    w90.kernel()    \n",
    "\n",
    "    # Export the MWLFs in the .xsf format for plotting with VESTA:\n",
    "    w90.plot_wf(supercell=kmesh, grid=[20,20,20])\n",
    "\n",
    "    # Export wannier90.mmn, wannier90.amn, wannier90.eig matrix and then run a wannier90 using these:\n",
    "    w90.export_AME()\n",
    "    w90.kernel(external_AME='wannier90')\n",
    "\n",
    "    w90.WANPROJ()\n",
    "\n",
    "    #TODO: Plot bands using Wannier interpolation and compare to bands from SCF"
   ]
  },
  {
   "cell_type": "markdown",
   "id": "e5100877",
   "metadata": {},
   "source": [
    "## Hopping parameters"
   ]
  },
  {
   "cell_type": "code",
   "execution_count": 7,
   "id": "b07a8320",
   "metadata": {},
   "outputs": [
    {
     "name": "stdout",
     "output_type": "stream",
     "text": [
      "Hopping matrix [eV] to [0. 0. 0.] :\n",
      " \n",
      " [[-1.47616167e+01 -2.86193185e-11 -2.46584300e-11]\n",
      " [-2.86192900e-11 -1.47616158e+01 -2.50309995e-12]\n",
      " [-2.46583873e-11 -2.50313548e-12 -1.47616155e+01]] \n",
      "\n",
      "Hopping matrix [eV] to [3.84652 0.      0.     ] :\n",
      " \n",
      " [[ 2.81303453e-01  3.13913365e-08  3.63411612e-11]\n",
      " [-2.86788158e-08  3.00791336e-02 -3.58241423e-08]\n",
      " [ 3.63157018e-11  3.85134640e-08  2.81303657e-01]] \n",
      "\n",
      "Hopping matrix [eV] to [3.84652 3.84652 0.     ] :\n",
      " \n",
      " [[ 1.72991772e-03 -3.89446406e-03 -1.50805137e-08]\n",
      " [-3.89447039e-03  1.72992655e-03  2.01157832e-08]\n",
      " [ 1.45766155e-08 -1.95121683e-08  5.94012611e-02]] \n",
      "\n",
      "Hopping matrix [eV] to [7.69304 0.      0.     ] :\n",
      " \n",
      " [[-9.95284361e-03 -3.00737165e-09  8.73814088e-12]\n",
      " [ 2.91145805e-09  3.61746196e-04  3.58069514e-09]\n",
      " [ 8.73325945e-12 -3.67569401e-09 -9.95283320e-03]] \n",
      "\n"
     ]
    }
   ],
   "source": [
    "N_k = 5**3\n",
    "N_b = 3\n",
    "N_w = 3\n",
    "\n",
    "au2angst = 0.529177\n",
    "nn = np.array([[0,0,0], [1,0,0], [1,1,0], [2, 0, 0]])*3.84652\n",
    "\n",
    "loaded_arr = np.loadtxt(\"WANPROJ_opt.txt\").view(complex)\n",
    "WANPROJ_opt = loaded_arr.reshape(loaded_arr.shape[0], loaded_arr.shape[1] // N_b, N_b)\n",
    "\n",
    "loaded_arr = np.loadtxt(\"WANPROJ.txt\").view(complex)\n",
    "WANPROJ = loaded_arr.reshape(loaded_arr.shape[0], loaded_arr.shape[1] // N_b, N_b)\n",
    "\n",
    "T = WANPROJ\n",
    "        \n",
    "Eig = open('wannier90.eig', \"r\")\n",
    "Eig = Eig.read()\n",
    "Eig = np.array([x for x in Eig.split(\" \") if x != '' and x != '\\n'])\n",
    "\n",
    "E = np.zeros((N_k, N_b),dtype=complex)\n",
    "for k in range(N_k):\n",
    "    for b in range(N_b):\n",
    "            E[k, b] = float(Eig[2+3*b+3*N_b*k])\n",
    "\n",
    "t = np.zeros((len(nn), N_w, N_w))\n",
    "for R in range(len(nn)):    \n",
    "    for i in range(N_w):\n",
    "        for j in range(N_w):\n",
    "            for n in range(N_b):\n",
    "                for k in range(N_k):\n",
    "                    t[R, i, j] -= ((np.conj(T[k, i, n])*(E[k][n])*T[k, j, n])*np.exp(1j*np.dot(kpts[k]/au2angst, nn[R]))).real\n",
    "    print('Hopping matrix [eV] to', nn[R],':\\n \\n', (1/N_k)*t[R], '\\n')"
   ]
  },
  {
   "cell_type": "markdown",
   "id": "f34834ce",
   "metadata": {},
   "source": [
    "## Hubbard parameters from cRPA"
   ]
  },
  {
   "cell_type": "code",
   "execution_count": null,
   "id": "bc3f4c52",
   "metadata": {},
   "outputs": [],
   "source": [
    "# TODO"
   ]
  }
 ],
 "metadata": {
  "kernelspec": {
   "display_name": "Python 3 (ipykernel)",
   "language": "python",
   "name": "python3"
  },
  "language_info": {
   "codemirror_mode": {
    "name": "ipython",
    "version": 3
   },
   "file_extension": ".py",
   "mimetype": "text/x-python",
   "name": "python",
   "nbconvert_exporter": "python",
   "pygments_lexer": "ipython3",
   "version": "3.10.4"
  },
  "toc": {
   "base_numbering": 1,
   "nav_menu": {},
   "number_sections": true,
   "sideBar": true,
   "skip_h1_title": false,
   "title_cell": "Table of Contents",
   "title_sidebar": "Contents",
   "toc_cell": false,
   "toc_position": {},
   "toc_section_display": true,
   "toc_window_display": false
  }
 },
 "nbformat": 4,
 "nbformat_minor": 5
}
